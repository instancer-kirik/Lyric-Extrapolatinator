{
 "cells": [
  {
   "cell_type": "markdown",
   "metadata": {
    "id": "g_cf0Ox7x0eT"
   },
   "source": []
  },
  {
   "cell_type": "code",
   "execution_count": 1,
   "metadata": {
    "id": "3TDaBNieK08X"
   },
   "outputs": [
    {
     "ename": "NameError",
     "evalue": "name 'conn' is not defined",
     "output_type": "error",
     "traceback": [
      "\u001b[1;31m---------------------------------------------------------------------------\u001b[0m",
      "\u001b[1;31mNameError\u001b[0m                                 Traceback (most recent call last)",
      "\u001b[1;32m<ipython-input-1-366a4ae91c3e>\u001b[0m in \u001b[0;36m<module>\u001b[1;34m\u001b[0m\n\u001b[0;32m      1\u001b[0m \u001b[1;31m#this is to build the full table withTagsB, which is 60gb from the 3gb of starter dbs. will be removed later on optimization. Unnecessary if withTagsB already built\u001b[0m\u001b[1;33m\u001b[0m\u001b[1;33m\u001b[0m\u001b[1;33m\u001b[0m\u001b[0m\n\u001b[1;32m----> 2\u001b[1;33m \u001b[0mres\u001b[0m \u001b[1;33m=\u001b[0m \u001b[0mconn\u001b[0m\u001b[1;33m.\u001b[0m\u001b[0mexecute\u001b[0m\u001b[1;33m(\u001b[0m\u001b[1;34m'CREATE TABLE withTagsB AS SELECT l.track_id, l.word, l.count, m.artist_id, m.title, m.artist_name, t.term FROM lyrics AS l INNER JOIN metadata.songs m ON l.track_id = m.track_id  INNER JOIN artist_term.artist_term t ON t.artist_id = m.artist_id;'\u001b[0m\u001b[1;33m)\u001b[0m\u001b[1;33m\u001b[0m\u001b[1;33m\u001b[0m\u001b[0m\n\u001b[0m",
      "\u001b[1;31mNameError\u001b[0m: name 'conn' is not defined"
     ]
    }
   ],
   "source": [
    "#this is to build the full table withTagsB, which is 60gb from the 3gb of starter dbs. will be removed later on optimization. Unnecessary if withTagsB already built\n",
    "res = conn.execute('CREATE TABLE withTagsB AS SELECT l.track_id, l.word, l.count, m.artist_id, m.title, m.artist_name, t.term FROM lyrics AS l INNER JOIN metadata.songs m ON l.track_id = m.track_id  INNER JOIN artist_term.artist_term t ON t.artist_id = m.artist_id;')"
   ]
  },
  {
   "cell_type": "code",
   "execution_count": 2,
   "metadata": {
    "id": "_FvXr87Mgglx"
   },
   "outputs": [],
   "source": [
    "import pickle\n",
    "import math\n",
    "import sqlite3\n",
    "class model:\n",
    "  \n",
    "  def __init__(self,lmbda=1):\n",
    "    self.vocab = {}#dict of word:dict pairs, inner dict is of term:(count,prob) pairs\n",
    "    self.terms = {}#dict of term:count pairs\n",
    "    self.termxword = {}#dict of term:dict pairs, inner dict is word:p pairs\n",
    "    self.toocommon = [\"i\", \"me\", \"my\", \"myself\", \"we\", \"our\", \"ours\", \"ourselves\", \"you\", \"your\", \"yours\", \"yourself\", \"yourselves\", \"he\", \"him\", \"his\", \"himself\", \"she\", \"her\", \"hers\", \"herself\", \"it\", \"its\", \"itself\", \"they\", \"them\", \"their\", \"theirs\", \"themselves\", \"what\", \"which\", \"who\", \"whom\", \"this\", \"that\", \"these\", \"those\", \"am\", \"is\", \"are\", \"was\", \"were\", \"be\", \"been\", \"being\", \"have\", \"has\", \"had\", \"having\", \"do\", \"does\", \"did\", \"doing\", \"a\", \"an\", \"the\", \"and\", \"but\", \"if\", \"or\", \"because\", \"as\", \"until\", \"while\", \"of\", \"at\", \"by\", \"for\", \"with\", \"about\", \"against\", \"between\", \"into\", \"through\", \"during\", \"before\", \"after\", \"above\", \"below\", \"to\", \"from\", \"up\", \"down\", \"in\", \"out\", \"on\", \"off\", \"over\", \"under\", \"again\", \"further\", \"then\", \"once\", \"here\", \"there\", \"when\", \"where\", \"why\", \"how\", \"all\", \"any\", \"both\", \"each\", \"few\", \"more\", \"most\", \"other\", \"some\", \"such\", \"no\", \"nor\", \"not\", \"only\", \"own\", \"same\", \"so\", \"than\", \"too\", \"very\", \"s\", \"t\", \"can\", \"will\", \"just\", \"don\", \"should\", \"now\"]\n",
    "    self.lmbda = lmbda\n",
    "    self.nterms = 5 # number of relevant terms allowed per input song\n",
    "    self.nwords = 20 #number of relevant words to be returned per input song\n",
    "   #self.lyrics\n",
    "    #self.Z = 0 #for div 0 errors make sure to call calcZ after training\n",
    "    self.lyricstem = []\n",
    "  def calcZ(self,tag):#\\sum_{word type v} (c(v, tag) + lambda))\n",
    "    summ = 0\n",
    "    for v in self.vocab:#make sure each v is a string, and not tuple\n",
    "      summ += self.c(v,tag) + self.lmbda  \n",
    "    return summ\n",
    "  def p(self,word,tag):#this computes p(word|tag)\n",
    "  \n",
    "    return (self.c(word,tag)+self.lmbda)/self.calcZ(tag)\n",
    "  def c(self,word, tag):\n",
    "    #gets c(word U tag)\n",
    "    if word not in self.vocab:\n",
    "      print(\"OOV\")\n",
    "      return 0\n",
    "    if tag not in self.vocab[word]:\n",
    "      #print(\"hehe sparse list go brr\")\n",
    "      self.vocab[word][tag] = 0\n",
    "    return self.vocab[word][tag]\n",
    "  def loadlyricstem(self, lyricstem):\n",
    "    for k in lyricstem:\n",
    "      self.lyricstem.append(k[0])\n",
    "  def csolo(self,q):\n",
    "    return self.terms[q]\n",
    "  def select(self, command='SELECT p.word, p.term FROM withTagsB AS p;'):\n",
    "    self.cur = self.conn.execute(command)\n",
    "  def train(self):\n",
    "    for h in self.cur:\n",
    "      if h[0] not in self.vocab:\n",
    "        terms = {h[1]:0}\n",
    "        self.vocab[h[0]] = terms\n",
    "      else:\n",
    "        if h[1] in self.vocab[h[0]]:\n",
    "          print(self.vocab[h[0]])\n",
    "          #self.vocab[h[0]][h[1]][0]+=1\n",
    "        else:\n",
    "          print(self.vocab[h[0]])\n",
    "          #self.vocab[h[0]][h[1]][0]=1\n",
    "  def primeterms(self):\n",
    "    termcursor = self.conn.execute('SELECT term, COUNT(*) FROM withTagsB GROUP BY term;')\n",
    "    for h in termcursor:\n",
    "      self.terms[h[0]] = h[1]\n",
    "  def connect(self,path = '/Downloads/mxm_dataset.db'):\n",
    "    self.conn = sqlite3.connect(path)\n",
    "  def firstconnect(self, path = '/Downloads/mxm_dataset.db', metapath = \"/Downloads/track_metadata.db\", termpath = \"/Downloads/artist_term.db\"):\n",
    "    self.conn = sqlite3.connect(path)\n",
    "\n",
    "    attachDatabaseSQL = \"ATTACH DATABASE ? AS metadata\"\n",
    "    dbSpec = (metapath,)\n",
    "    attachDatabaseSQL2 = \"ATTACH DATABASE ? AS artist_term\"\n",
    "    dbSpec2 = (termpath,)\n",
    "    #meta = sqlite3.connect('/content/gdrive/MyDrive/track_metadata.db')\n",
    "    #term = sqlite3.connect('/content/gdrive/MyDrive/artist_term.db')\n",
    "\n",
    "    self.res = self.conn.cursor()\n",
    "    self.res.execute(attachDatabaseSQL,dbSpec)\n",
    "    self.res.execute(attachDatabaseSQL2,dbSpec2)\n",
    "\n",
    "    #all 3 databases are linked here to one connection to allow correct labels\n",
    "    \n",
    "  def loadvocab(self, picklename = \"vocab.p\"):\n",
    "    self.vocab = pickle.load( open( picklename, \"rb\" ) )\n",
    "  def savevocab(self, picklename = \"vocab.p\"):\n",
    "    pickle.dump( self.vocab, open( \"vocab.p\", \"wb\" ) )\n",
    "  \n",
    "  def LyricP(self,listoflyrics):#THIS TAKES A FULL BLOCK OF LYRICS AND PARSES ON WHITESPACE. THEN RETURNS TERMS WITH HIGHEST P\n",
    "    applicable = []\n",
    "    #listoflyrics = lyrics.split() from string to list, doesnt stem\n",
    "    \n",
    "    for term in self.terms:\n",
    "      sum4term = 0\n",
    "      for word in listoflyrics:\n",
    "        sum4term+=math.log(self.p(word[0],term))\n",
    "      pairr = tuple((term,sum4term))\n",
    "      applicable.append(pairr)\n",
    "    print(applicable)\n",
    "    applicableh = sorted(applicable,key=self.getKey)\n",
    "    sortie =  (sorted(applicableh, key=lambda x:x[1], reverse=True))\n",
    "    return sortie[:self.nterms] \n",
    "  def getKey(self,typle):\n",
    "    return typle[1]#this is to be used with LyricP. 1 is sort by sum4term to give most applicable terms\n",
    "  def otherwords(self, songtags):#input: a list of terms returns list of words with highest combined scores\n",
    "    #need dict of tag:dict of word:p\n",
    "    relevant = {}#dictionary of word:combined p \n",
    "    for word in self.vocab:\n",
    "      if word not in self.lyricstem:\n",
    "        if word not in self.toocommon:\n",
    "          relevant[word]=0\n",
    "          for tag in songtags: \n",
    "          \n",
    "            relevant[word]+=math.log(self.p(word,tag[0]))\n",
    "    print(relevant)\n",
    "    relevanth = sorted(relevant.items(), key = lambda x:x[1],reverse = True)\n",
    "    return relevanth[:20]\n",
    "    #calculate highest probability of word|tag,tag2,etc.\n",
    "    #p(word|tagi)*p(word|tagn)\n",
    " \n",
    "  def inputfromfile(self,filename=\"testlyrics.txt\"):\n",
    "    f=open(\"testlyrics.txt\",\"r\")\n",
    "    print(self.LyricP(f.read())) \n",
    "  def countselect(self):\n",
    "    self.countcursor = self.conn.execute('SELECT term, COUNT(*) FROM withTagsB GROUP BY term;')\n",
    "    print(\"done select\")\n",
    "  def buildterms(self):\n",
    "    for term in self.countcursor:\n",
    "      self.terms[term[0]]=term[1]\n",
    "  def saveterms(self,picklename = \"terms.p\"):\n",
    "    pickle.dump( self.terms, open( picklename, \"wb\" ) )\n",
    "  def loadterms(self,picklename = \"terms.p\"):\n",
    "    self.terms = pickle.load( open( picklename, \"rb\" ) )"
   ]
  },
  {
   "cell_type": "code",
   "execution_count": 5,
   "metadata": {
    "id": "UUuzJ3xYSsDm"
   },
   "outputs": [
    {
     "ename": "OperationalError",
     "evalue": "unable to open database file",
     "output_type": "error",
     "traceback": [
      "\u001b[1;31m---------------------------------------------------------------------------\u001b[0m",
      "\u001b[1;31mOperationalError\u001b[0m                          Traceback (most recent call last)",
      "\u001b[1;32m<ipython-input-5-4a954cff070c>\u001b[0m in \u001b[0;36m<module>\u001b[1;34m\u001b[0m\n\u001b[0;32m      3\u001b[0m \u001b[0mmyModel\u001b[0m\u001b[1;33m.\u001b[0m\u001b[0mloadvocab\u001b[0m\u001b[1;33m(\u001b[0m\u001b[1;33m)\u001b[0m\u001b[1;33m\u001b[0m\u001b[1;33m\u001b[0m\u001b[0m\n\u001b[0;32m      4\u001b[0m \u001b[0mmyModel\u001b[0m\u001b[1;33m.\u001b[0m\u001b[0mloadterms\u001b[0m\u001b[1;33m(\u001b[0m\u001b[1;33m)\u001b[0m\u001b[1;33m\u001b[0m\u001b[1;33m\u001b[0m\u001b[0m\n\u001b[1;32m----> 5\u001b[1;33m \u001b[0mmyModel\u001b[0m\u001b[1;33m.\u001b[0m\u001b[0mconnect\u001b[0m\u001b[1;33m(\u001b[0m\u001b[1;33m)\u001b[0m\u001b[1;33m\u001b[0m\u001b[1;33m\u001b[0m\u001b[0m\n\u001b[0m\u001b[0;32m      6\u001b[0m \u001b[0mmyModel\u001b[0m\u001b[1;33m.\u001b[0m\u001b[0mloadlyricstem\u001b[0m\u001b[1;33m(\u001b[0m\u001b[0mlyricstem\u001b[0m\u001b[1;33m)\u001b[0m\u001b[1;33m\u001b[0m\u001b[1;33m\u001b[0m\u001b[0m\n",
      "\u001b[1;32m<ipython-input-2-4bca80e80fc3>\u001b[0m in \u001b[0;36mconnect\u001b[1;34m(self, path)\u001b[0m\n\u001b[0;32m     56\u001b[0m       \u001b[0mself\u001b[0m\u001b[1;33m.\u001b[0m\u001b[0mterms\u001b[0m\u001b[1;33m[\u001b[0m\u001b[0mh\u001b[0m\u001b[1;33m[\u001b[0m\u001b[1;36m0\u001b[0m\u001b[1;33m]\u001b[0m\u001b[1;33m]\u001b[0m \u001b[1;33m=\u001b[0m \u001b[0mh\u001b[0m\u001b[1;33m[\u001b[0m\u001b[1;36m1\u001b[0m\u001b[1;33m]\u001b[0m\u001b[1;33m\u001b[0m\u001b[1;33m\u001b[0m\u001b[0m\n\u001b[0;32m     57\u001b[0m   \u001b[1;32mdef\u001b[0m \u001b[0mconnect\u001b[0m\u001b[1;33m(\u001b[0m\u001b[0mself\u001b[0m\u001b[1;33m,\u001b[0m\u001b[0mpath\u001b[0m \u001b[1;33m=\u001b[0m \u001b[1;34m'/Downloads/mxm_dataset.db'\u001b[0m\u001b[1;33m)\u001b[0m\u001b[1;33m:\u001b[0m\u001b[1;33m\u001b[0m\u001b[1;33m\u001b[0m\u001b[0m\n\u001b[1;32m---> 58\u001b[1;33m     \u001b[0mself\u001b[0m\u001b[1;33m.\u001b[0m\u001b[0mconn\u001b[0m \u001b[1;33m=\u001b[0m \u001b[0msqlite3\u001b[0m\u001b[1;33m.\u001b[0m\u001b[0mconnect\u001b[0m\u001b[1;33m(\u001b[0m\u001b[0mpath\u001b[0m\u001b[1;33m)\u001b[0m\u001b[1;33m\u001b[0m\u001b[1;33m\u001b[0m\u001b[0m\n\u001b[0m\u001b[0;32m     59\u001b[0m   \u001b[1;32mdef\u001b[0m \u001b[0mfirstconnect\u001b[0m\u001b[1;33m(\u001b[0m\u001b[0mself\u001b[0m\u001b[1;33m,\u001b[0m \u001b[0mpath\u001b[0m \u001b[1;33m=\u001b[0m \u001b[1;34m'/Downloads/mxm_dataset.db'\u001b[0m\u001b[1;33m,\u001b[0m \u001b[0mmetapath\u001b[0m \u001b[1;33m=\u001b[0m \u001b[1;34m\"/Downloads/track_metadata.db\"\u001b[0m\u001b[1;33m,\u001b[0m \u001b[0mtermpath\u001b[0m \u001b[1;33m=\u001b[0m \u001b[1;34m\"/Downloads/artist_term.db\"\u001b[0m\u001b[1;33m)\u001b[0m\u001b[1;33m:\u001b[0m\u001b[1;33m\u001b[0m\u001b[1;33m\u001b[0m\u001b[0m\n\u001b[0;32m     60\u001b[0m     \u001b[0mself\u001b[0m\u001b[1;33m.\u001b[0m\u001b[0mconn\u001b[0m \u001b[1;33m=\u001b[0m \u001b[0msqlite3\u001b[0m\u001b[1;33m.\u001b[0m\u001b[0mconnect\u001b[0m\u001b[1;33m(\u001b[0m\u001b[0mpath\u001b[0m\u001b[1;33m)\u001b[0m\u001b[1;33m\u001b[0m\u001b[1;33m\u001b[0m\u001b[0m\n",
      "\u001b[1;31mOperationalError\u001b[0m: unable to open database file"
     ]
    }
   ],
   "source": [
    "#AFTER FIRST USE\n",
    "myModel = model(500)\n",
    "myModel.loadvocab()\n",
    "myModel.loadterms()\n",
    "myModel.connect()\n",
    "myModel.loadlyricstem(lyricstem)"
   ]
  },
  {
   "cell_type": "code",
   "execution_count": 4,
   "metadata": {
    "id": "c3i46f1GyGt-"
   },
   "outputs": [
    {
     "ename": "NameError",
     "evalue": "name 'lyricstem' is not defined",
     "output_type": "error",
     "traceback": [
      "\u001b[1;31m---------------------------------------------------------------------------\u001b[0m",
      "\u001b[1;31mNameError\u001b[0m                                 Traceback (most recent call last)",
      "\u001b[1;32m<ipython-input-4-6f40b5831f36>\u001b[0m in \u001b[0;36m<module>\u001b[1;34m\u001b[0m\n\u001b[1;32m----> 1\u001b[1;33m \u001b[0mmyModel\u001b[0m\u001b[1;33m.\u001b[0m\u001b[0mloadlyricstem\u001b[0m\u001b[1;33m(\u001b[0m\u001b[0mlyricstem\u001b[0m\u001b[1;33m)\u001b[0m\u001b[1;33m\u001b[0m\u001b[1;33m\u001b[0m\u001b[0m\n\u001b[0m\u001b[0;32m      2\u001b[0m \u001b[0mmyModel\u001b[0m\u001b[1;33m.\u001b[0m\u001b[0mLyricP\u001b[0m\u001b[1;33m(\u001b[0m\u001b[1;33m)\u001b[0m\u001b[1;31m#GENERATES TAGS\u001b[0m\u001b[1;33m\u001b[0m\u001b[1;33m\u001b[0m\u001b[0m\n",
      "\u001b[1;31mNameError\u001b[0m: name 'lyricstem' is not defined"
     ]
    }
   ],
   "source": [
    "myModel.loadlyricstem(lyricstem)\n",
    "myModel.LyricP()#GENERATES TAGS"
   ]
  },
  {
   "cell_type": "code",
   "execution_count": null,
   "metadata": {
    "id": "lBCB84qAyROk"
   },
   "outputs": [],
   "source": [
    "myModel.otherwords()#GENERATES WORDS"
   ]
  },
  {
   "cell_type": "code",
   "execution_count": null,
   "metadata": {
    "colab": {
     "base_uri": "https://localhost:8080/"
    },
    "id": "bUgmEz4LhG73",
    "outputId": "efc44dd5-0c58-45e2-dcc3-58007cbdb642"
   },
   "outputs": [
    {
     "name": "stdout",
     "output_type": "stream",
     "text": [
      "done select\n"
     ]
    }
   ],
   "source": [
    "#TRAINS FOR FIRST USE -----ONLY NEEDED WITH NO PICKLES----i dont know if this works anymore, just use the pickles\n",
    "myModel = model(500)\n",
    "myModel.select()\n",
    "myModel.train()\n",
    "myModel.savevocab()\n",
    "myModel.countselect()\n",
    "myModel.buildterms()\n",
    "myModel.saveterms()\n"
   ]
  },
  {
   "cell_type": "code",
   "execution_count": null,
   "metadata": {
    "colab": {
     "base_uri": "https://localhost:8080/"
    },
    "id": "m8HDYyOn66V9",
    "outputId": "e1382309-d1f5-4c1b-d1a6-844e3216f2c7"
   },
   "outputs": [
    {
     "name": "stdout",
     "output_type": "stream",
     "text": [
      "[('the', 15), ('oohooh', 15), ('of', 7), ('we', 6), ('ah', 5), ('and', 5), ('ahah', 4), ('from', 4), ('your', 4), ('come', 3), ('land', 3), ('will', 3), ('our', 3), ('ice', 2), ('snow', 2), ('midnight', 2), ('sun', 2), ('where', 2), ('hot', 2), ('spring', 2), ('flow', 2), ('to', 2), ('on', 2), ('sweep', 2), ('with', 2), ('thresh', 2), ('oar', 2), ('onli', 2), ('goal', 2), ('be', 2), ('western', 2), ('shore', 2), ('how', 2), ('so', 2), ('can', 2), ('all', 2), ('hammer', 1), ('god', 1), ('drive', 1), ('ship', 1), ('new', 1), ('fight', 1), ('hord', 1), ('sing', 1), ('cri', 1), ('valhalla', 1), ('i', 1), ('am', 1), ('soft', 1), ('field', 1), ('green', 1), ('whisper', 1), ('tale', 1), ('gore', 1), ('calm', 1), ('tide', 1), ('war', 1), ('are', 1), ('overlord', 1), ('now', 1), ('you', 1), ('would', 1), ('better', 1), ('stop', 1), ('rebuild', 1), ('ruin', 1), ('for', 1), ('peac', 1), ('trust', 1), ('win', 1), ('day', 1), ('despit', 1), ('lose', 1), ('ahh', 1), ('cusersthewiappdataroamingjupyterruntimekernel078dd71ccf01419f82c53ec6118c9cfejson', 1)]\n"
     ]
    }
   ],
   "source": [
    "#!/usr/bin/env python\n",
    "\"\"\"\n",
    "Thierry Bertin-Mahieux (2011) Columbia University\n",
    "tb2332@columbia.edu\n",
    "This code shows how we created bag of words for the musiXmatch\n",
    "dataset. I has a command line interface, but it is mostly a library\n",
    "with one main function.\n",
    "This is part of the Million Song Dataset project from\n",
    "LabROSA (Columbia University) and The Echo Nest.\n",
    "http://labrosa.ee.columbia.edu/millionsong/\n",
    "Copyright 2011, Thierry Bertin-Mahieux\n",
    "This program is free software: you can redistribute it and/or modify\n",
    "it under the terms of the GNU General Public License as published by\n",
    "the Free Software Foundation, either version 3 of the License, or\n",
    "(at your option) any later version.\n",
    "This program is distributed in the hope that it will be useful,\n",
    "but WITHOUT ANY WARRANTY; without even the implied warranty of\n",
    "MERCHANTABILITY or FITNESS FOR A PARTICULAR PURPOSE.  See the\n",
    "GNU General Public License for more details.\n",
    "You should have received a copy of the GNU General Public License\n",
    "along with this program.  If not, see <http://www.gnu.org/licenses/>.\n",
    "\"\"\"\n",
    "\n",
    "import os\n",
    "import sys\n",
    "try:\n",
    "    from stemming.porter2 import stem\n",
    "except ImportError:\n",
    "    print ('You need to install the following stemming package:')\n",
    "    print ('http://pypi.python.org/pypi/stemming/1.0')\n",
    "    sys.exit(0)\n",
    "\n",
    "\n",
    "def lyrics_to_bow(lyrics):\n",
    "    \"\"\"\n",
    "    Main function to stem and create bag of words.\n",
    "    It is what we used for the musiXmatch dataset.\n",
    "    It is heavily oriented towards English lyrics, we apologize for that.\n",
    "    INPUT\n",
    "        lyrics as a string\n",
    "    RETURN\n",
    "        dictionary word -> count\n",
    "        or None if something was wrong (e.g. not enough words)\n",
    "    \"\"\"\n",
    "    # remove end of lines\n",
    "    lyrics_flat = lyrics.replace('\\r', '\\n').replace('\\n', ' ').lower()\n",
    "    lyrics_flat = ' ' + lyrics_flat + ' '\n",
    "    # special cases (English...)\n",
    "    lyrics_flat = lyrics_flat.replace(\"'m \", \" am \")\n",
    "    lyrics_flat = lyrics_flat.replace(\"'re \", \" are \")\n",
    "    lyrics_flat = lyrics_flat.replace(\"'ve \", \" have \")\n",
    "    lyrics_flat = lyrics_flat.replace(\"'d \", \" would \")\n",
    "    lyrics_flat = lyrics_flat.replace(\"'ll \", \" will \")\n",
    "    lyrics_flat = lyrics_flat.replace(\" he's \", \" he is \")\n",
    "    lyrics_flat = lyrics_flat.replace(\" she's \", \" she is \")\n",
    "    lyrics_flat = lyrics_flat.replace(\" it's \", \" it is \")\n",
    "    lyrics_flat = lyrics_flat.replace(\" ain't \", \" is not \")\n",
    "    lyrics_flat = lyrics_flat.replace(\"n't \", \" not \")\n",
    "    lyrics_flat = lyrics_flat.replace(\"'s \", \" \")\n",
    "    # remove boring punctuation and weird signs\n",
    "    punctuation = (',', \"'\", '\"', \",\", ';', ':', '.', '?', '!', '(', ')',\n",
    "                   '{', '}', '/', '\\\\', '_', '|', '-', '@', '#', '*')\n",
    "    for p in punctuation:\n",
    "        lyrics_flat = lyrics_flat.replace(p, '')\n",
    "    words = filter(lambda x: x.strip() != '', lyrics_flat.split(' '))\n",
    "    # stem words\n",
    "    words = map(lambda x: stem(x), words)\n",
    "    bow = {}\n",
    "    for w in words:\n",
    "        if not w in bow.keys():\n",
    "            bow[w] = 1\n",
    "        else:\n",
    "            bow[w] += 1\n",
    "    # remove special words that are wrong\n",
    "    fake_words = ('>', '<', 'outro~')\n",
    "    bowwords = bow.keys()\n",
    "    for bw in bowwords:\n",
    "        if bw in fake_words:\n",
    "            bow.pop(bw)\n",
    "        elif bw.find(']') >= 0:\n",
    "            bow.pop(bw)\n",
    "        elif bw.find('[') >= 0:\n",
    "            bow.pop(bw)\n",
    "    # not big enough? remove instrumental ones among others\n",
    "    if len(bow) <= 3:\n",
    "        return None\n",
    "    # done\n",
    "    return bow\n",
    "\n",
    "\n",
    "def die_with_usage():\n",
    "    \"\"\" HELP MENU \"\"\"\n",
    "    print ('lyrics_to_bow.py')\n",
    "    print ('   by T. Bertin-Mahieux (2011) Columbia University')\n",
    "    print ('      tb2332@columbia.edu')\n",
    "    print ('This code shows how we transformed lyrics into bag-of-words.')\n",
    "    print ('It is mostly intended to be used as a library, but you can pass')\n",
    "    print ('in lyrics and we print the resulting dictionary.')\n",
    "    print ('')\n",
    "    print ('USAGE:')\n",
    "    print ('  ./lyrics_to_bow.py <lyrics>')\n",
    "    print ('PARAMS:')\n",
    "    print ('    <lyrics>  - lyrics as one string')\n",
    "    sys.exit(0)\n",
    "\n",
    "\n",
    "if __name__ == '__main__':\n",
    "\n",
    "    # help menu\n",
    "    if len(sys.argv) < 2:\n",
    "        die_with_usage()\n",
    "\n",
    "    # params (lyrics)\n",
    "    f=open(\"testlyrics.txt\",\"r\")\n",
    "     \n",
    "    lyrics = f.read()\n",
    "    for word in sys.argv[2:]:\n",
    "        lyrics += ' ' + word\n",
    "    lyrics = lyrics.strip()\n",
    "\n",
    "    # make bag of words\n",
    "    bow = lyrics_to_bow(lyrics)\n",
    "    if bow is None:\n",
    "        print ('ERROR, maybe there was not enough words to be realistic?')\n",
    "        sys.exit(0)\n",
    "\n",
    "    # print result\n",
    "    try:\n",
    "        from operator import itemgetter\n",
    "        lyricstem =  (sorted(bow.items(), key=itemgetter(1), reverse=True))\n",
    "        print(lyricstem)\n",
    "    except ImportError:\n",
    "        print (bow)"
   ]
  }
 ],
 "metadata": {
  "colab": {
   "collapsed_sections": [],
   "name": "Lyric Extrapolatinator.ipynb",
   "provenance": []
  },
  "kernelspec": {
   "display_name": "Python 3",
   "language": "python",
   "name": "python3"
  },
  "language_info": {
   "codemirror_mode": {
    "name": "ipython",
    "version": 3
   },
   "file_extension": ".py",
   "mimetype": "text/x-python",
   "name": "python",
   "nbconvert_exporter": "python",
   "pygments_lexer": "ipython3",
   "version": "3.8.11"
  }
 },
 "nbformat": 4,
 "nbformat_minor": 1
}
